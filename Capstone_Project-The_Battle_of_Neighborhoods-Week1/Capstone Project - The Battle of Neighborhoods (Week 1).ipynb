{
 "cells": [
  {
   "cell_type": "markdown",
   "metadata": {},
   "source": [
    "<h3>Introduction/Business Problem"
   ]
  },
  {
   "cell_type": "markdown",
   "metadata": {},
   "source": [
    "City of Manila in the Philippines is currently under Enhanced Community Quarantine (ECQ) as of August 6, 2021 because of the rising cases of COVID-19 delta variant. During ECQ, strict guidelines must be implemented by the authorities like the police and barangay officials (local community leaders). \n",
    "\n",
    "Authorities need help to strategize on where they should assign most of their men and where to check and locate businesses/establishments in order to make sure that guidelines and health safety protocols are being followed."
   ]
  },
  {
   "cell_type": "markdown",
   "metadata": {},
   "source": [
    "<h3>Proposed Solution"
   ]
  },
  {
   "cell_type": "markdown",
   "metadata": {},
   "source": [
    "To help the authorities in locating the businesses within the nation's capital, we will use the Foursquare location data and cluster them using K-Means to see if that group of businesses/establishments  such as clubs/bars, malls, and big restaurants can be a potential virus spreader places."
   ]
  }
 ],
 "metadata": {
  "kernelspec": {
   "display_name": "Python (Quantum)",
   "language": "python",
   "name": "quantum_computing"
  },
  "language_info": {
   "codemirror_mode": {
    "name": "ipython",
    "version": 3
   },
   "file_extension": ".py",
   "mimetype": "text/x-python",
   "name": "python",
   "nbconvert_exporter": "python",
   "pygments_lexer": "ipython3",
   "version": "3.8.3"
  }
 },
 "nbformat": 4,
 "nbformat_minor": 4
}
